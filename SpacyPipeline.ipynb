{
 "cells": [
  {
   "cell_type": "code",
   "execution_count": 13,
   "metadata": {},
   "outputs": [
    {
     "name": "stdout",
     "output_type": "stream",
     "text": [
      "Collecting en-core-web-md==3.7.1\n",
      "  Downloading https://github.com/explosion/spacy-models/releases/download/en_core_web_md-3.7.1/en_core_web_md-3.7.1-py3-none-any.whl (42.8 MB)\n",
      "     ---------------------------------------- 0.0/42.8 MB ? eta -:--:--\n",
      "     ---------------------------------------- 0.0/42.8 MB ? eta -:--:--\n",
      "     --------------------------------------- 0.0/42.8 MB 165.2 kB/s eta 0:04:19\n",
      "     --------------------------------------- 0.1/42.8 MB 375.8 kB/s eta 0:01:54\n",
      "     ---------------------------------------- 0.3/42.8 MB 1.8 MB/s eta 0:00:24\n",
      "     ---------------------------------------- 0.4/42.8 MB 1.7 MB/s eta 0:00:25\n",
      "     ---------------------------------------- 0.5/42.8 MB 1.7 MB/s eta 0:00:25\n",
      "      --------------------------------------- 0.5/42.8 MB 1.8 MB/s eta 0:00:24\n",
      "      --------------------------------------- 0.5/42.8 MB 1.8 MB/s eta 0:00:24\n",
      "      --------------------------------------- 0.8/42.8 MB 1.9 MB/s eta 0:00:23\n",
      "      --------------------------------------- 0.8/42.8 MB 1.9 MB/s eta 0:00:22\n",
      "      --------------------------------------- 0.9/42.8 MB 1.8 MB/s eta 0:00:24\n",
      "      --------------------------------------- 1.0/42.8 MB 1.7 MB/s eta 0:00:25\n",
      "     - -------------------------------------- 1.1/42.8 MB 1.8 MB/s eta 0:00:24\n",
      "     - -------------------------------------- 1.2/42.8 MB 1.7 MB/s eta 0:00:25\n",
      "     - -------------------------------------- 1.4/42.8 MB 1.9 MB/s eta 0:00:22\n",
      "     - -------------------------------------- 1.8/42.8 MB 2.3 MB/s eta 0:00:19\n",
      "     - -------------------------------------- 2.1/42.8 MB 2.5 MB/s eta 0:00:16\n",
      "     -- ------------------------------------- 2.4/42.8 MB 2.7 MB/s eta 0:00:15\n",
      "     -- ------------------------------------- 2.7/42.8 MB 2.9 MB/s eta 0:00:15\n",
      "     -- ------------------------------------- 2.9/42.8 MB 3.0 MB/s eta 0:00:14\n",
      "     -- ------------------------------------- 3.1/42.8 MB 3.1 MB/s eta 0:00:13\n",
      "     --- ------------------------------------ 3.4/42.8 MB 3.3 MB/s eta 0:00:13\n",
      "     --- ------------------------------------ 3.7/42.8 MB 3.4 MB/s eta 0:00:12\n",
      "     --- ------------------------------------ 4.0/42.8 MB 3.5 MB/s eta 0:00:11\n",
      "     ---- ----------------------------------- 4.3/42.8 MB 3.7 MB/s eta 0:00:11\n",
      "     ---- ----------------------------------- 4.6/42.8 MB 3.8 MB/s eta 0:00:11\n",
      "     ---- ----------------------------------- 4.9/42.8 MB 3.9 MB/s eta 0:00:10\n",
      "     ---- ----------------------------------- 5.1/42.8 MB 3.9 MB/s eta 0:00:10\n",
      "     ---- ----------------------------------- 5.3/42.8 MB 3.9 MB/s eta 0:00:10\n",
      "     ----- ---------------------------------- 5.6/42.8 MB 4.0 MB/s eta 0:00:10\n",
      "     ----- ---------------------------------- 5.9/42.8 MB 4.1 MB/s eta 0:00:10\n",
      "     ----- ---------------------------------- 6.2/42.8 MB 4.1 MB/s eta 0:00:09\n",
      "     ------ --------------------------------- 6.6/42.8 MB 4.3 MB/s eta 0:00:09\n",
      "     ------ --------------------------------- 7.0/42.8 MB 4.4 MB/s eta 0:00:09\n",
      "     ------ --------------------------------- 7.3/42.8 MB 4.5 MB/s eta 0:00:08\n",
      "     ------- -------------------------------- 7.7/42.8 MB 4.6 MB/s eta 0:00:08\n",
      "     ------- -------------------------------- 8.1/42.8 MB 4.7 MB/s eta 0:00:08\n",
      "     -------- ------------------------------- 8.6/42.8 MB 4.8 MB/s eta 0:00:08\n",
      "     -------- ------------------------------- 9.0/42.8 MB 5.0 MB/s eta 0:00:07\n",
      "     -------- ------------------------------- 9.5/42.8 MB 5.1 MB/s eta 0:00:07\n",
      "     --------- ------------------------------ 9.8/42.8 MB 5.2 MB/s eta 0:00:07\n",
      "     --------- ------------------------------ 10.2/42.8 MB 5.2 MB/s eta 0:00:07\n",
      "     --------- ------------------------------ 10.6/42.8 MB 5.8 MB/s eta 0:00:06\n",
      "     ---------- ----------------------------- 11.1/42.8 MB 6.4 MB/s eta 0:00:05\n",
      "     ---------- ----------------------------- 11.6/42.8 MB 7.4 MB/s eta 0:00:05\n",
      "     ----------- ---------------------------- 12.1/42.8 MB 7.4 MB/s eta 0:00:05\n",
      "     ----------- ---------------------------- 12.4/42.8 MB 7.4 MB/s eta 0:00:05\n",
      "     ----------- ---------------------------- 12.7/42.8 MB 7.5 MB/s eta 0:00:05\n",
      "     ------------ --------------------------- 13.0/42.8 MB 7.6 MB/s eta 0:00:04\n",
      "     ------------ --------------------------- 13.4/42.8 MB 7.7 MB/s eta 0:00:04\n",
      "     ------------ --------------------------- 13.8/42.8 MB 7.9 MB/s eta 0:00:04\n",
      "     ------------- -------------------------- 14.2/42.8 MB 8.0 MB/s eta 0:00:04\n",
      "     ------------- -------------------------- 14.6/42.8 MB 7.9 MB/s eta 0:00:04\n",
      "     ------------- -------------------------- 14.8/42.8 MB 7.9 MB/s eta 0:00:04\n",
      "     -------------- ------------------------- 15.0/42.8 MB 7.7 MB/s eta 0:00:04\n",
      "     -------------- ------------------------- 15.3/42.8 MB 7.9 MB/s eta 0:00:04\n",
      "     -------------- ------------------------- 15.7/42.8 MB 8.1 MB/s eta 0:00:04\n",
      "     --------------- ------------------------ 16.1/42.8 MB 8.1 MB/s eta 0:00:04\n",
      "     --------------- ------------------------ 16.4/42.8 MB 8.1 MB/s eta 0:00:04\n",
      "     --------------- ------------------------ 16.7/42.8 MB 8.1 MB/s eta 0:00:04\n",
      "     --------------- ------------------------ 16.9/42.8 MB 7.9 MB/s eta 0:00:04\n",
      "     --------------- ------------------------ 17.0/42.8 MB 7.8 MB/s eta 0:00:04\n",
      "     ---------------- ----------------------- 17.4/42.8 MB 7.7 MB/s eta 0:00:04\n",
      "     ---------------- ----------------------- 17.7/42.8 MB 7.7 MB/s eta 0:00:04\n",
      "     ---------------- ----------------------- 18.1/42.8 MB 7.6 MB/s eta 0:00:04\n",
      "     ----------------- ---------------------- 18.4/42.8 MB 7.6 MB/s eta 0:00:04\n",
      "     ----------------- ---------------------- 18.8/42.8 MB 7.6 MB/s eta 0:00:04\n",
      "     ------------------ --------------------- 19.3/42.8 MB 7.6 MB/s eta 0:00:04\n",
      "     ------------------ --------------------- 19.7/42.8 MB 7.5 MB/s eta 0:00:04\n",
      "     ------------------ --------------------- 20.2/42.8 MB 7.6 MB/s eta 0:00:03\n",
      "     ------------------- -------------------- 20.7/42.8 MB 7.6 MB/s eta 0:00:03\n",
      "     ------------------- -------------------- 21.0/42.8 MB 7.7 MB/s eta 0:00:03\n",
      "     ------------------- -------------------- 21.2/42.8 MB 7.5 MB/s eta 0:00:03\n",
      "     -------------------- ------------------- 21.5/42.8 MB 7.5 MB/s eta 0:00:03\n",
      "     -------------------- ------------------- 21.9/42.8 MB 7.4 MB/s eta 0:00:03\n",
      "     -------------------- ------------------- 22.3/42.8 MB 7.4 MB/s eta 0:00:03\n",
      "     --------------------- ------------------ 22.7/42.8 MB 7.4 MB/s eta 0:00:03\n",
      "     --------------------- ------------------ 23.0/42.8 MB 7.4 MB/s eta 0:00:03\n",
      "     --------------------- ------------------ 23.2/42.8 MB 7.4 MB/s eta 0:00:03\n",
      "     ---------------------- ----------------- 23.6/42.8 MB 7.4 MB/s eta 0:00:03\n",
      "     ---------------------- ----------------- 24.0/42.8 MB 7.3 MB/s eta 0:00:03\n",
      "     ---------------------- ----------------- 24.3/42.8 MB 7.3 MB/s eta 0:00:03\n",
      "     ----------------------- ---------------- 24.8/42.8 MB 7.4 MB/s eta 0:00:03\n",
      "     ----------------------- ---------------- 25.3/42.8 MB 7.6 MB/s eta 0:00:03\n",
      "     ------------------------ --------------- 25.7/42.8 MB 7.7 MB/s eta 0:00:03\n",
      "     ------------------------ --------------- 26.2/42.8 MB 7.7 MB/s eta 0:00:03\n",
      "     ------------------------ --------------- 26.4/42.8 MB 7.7 MB/s eta 0:00:03\n",
      "     ------------------------- -------------- 26.8/42.8 MB 7.8 MB/s eta 0:00:03\n",
      "     ------------------------- -------------- 27.2/42.8 MB 8.2 MB/s eta 0:00:02\n",
      "     ------------------------- -------------- 27.6/42.8 MB 8.3 MB/s eta 0:00:02\n",
      "     -------------------------- ------------- 28.1/42.8 MB 8.3 MB/s eta 0:00:02\n",
      "     -------------------------- ------------- 28.7/42.8 MB 8.5 MB/s eta 0:00:02\n",
      "     --------------------------- ------------ 29.2/42.8 MB 8.6 MB/s eta 0:00:02\n",
      "     --------------------------- ------------ 29.7/42.8 MB 8.5 MB/s eta 0:00:02\n",
      "     ---------------------------- ----------- 30.0/42.8 MB 8.6 MB/s eta 0:00:02\n",
      "     ---------------------------- ----------- 30.3/42.8 MB 8.3 MB/s eta 0:00:02\n",
      "     ---------------------------- ----------- 30.7/42.8 MB 8.4 MB/s eta 0:00:02\n",
      "     ----------------------------- ---------- 31.2/42.8 MB 8.3 MB/s eta 0:00:02\n",
      "     ----------------------------- ---------- 31.4/42.8 MB 8.4 MB/s eta 0:00:02\n",
      "     ----------------------------- ---------- 31.8/42.8 MB 8.4 MB/s eta 0:00:02\n",
      "     ------------------------------ --------- 32.1/42.8 MB 8.2 MB/s eta 0:00:02\n",
      "     ------------------------------ --------- 32.3/42.8 MB 8.2 MB/s eta 0:00:02\n",
      "     ------------------------------ --------- 32.8/42.8 MB 8.3 MB/s eta 0:00:02\n",
      "     ------------------------------- -------- 33.2/42.8 MB 8.4 MB/s eta 0:00:02\n",
      "     ------------------------------- -------- 33.8/42.8 MB 8.5 MB/s eta 0:00:02\n",
      "     -------------------------------- ------- 34.3/42.8 MB 8.6 MB/s eta 0:00:01\n",
      "     -------------------------------- ------- 34.9/42.8 MB 8.7 MB/s eta 0:00:01\n",
      "     --------------------------------- ------ 35.3/42.8 MB 8.6 MB/s eta 0:00:01\n",
      "     --------------------------------- ------ 35.9/42.8 MB 8.6 MB/s eta 0:00:01\n",
      "     --------------------------------- ------ 36.3/42.8 MB 8.7 MB/s eta 0:00:01\n",
      "     ---------------------------------- ----- 36.6/42.8 MB 8.7 MB/s eta 0:00:01\n",
      "     ---------------------------------- ----- 37.0/42.8 MB 8.8 MB/s eta 0:00:01\n",
      "     ----------------------------------- ---- 37.5/42.8 MB 8.8 MB/s eta 0:00:01\n",
      "     ----------------------------------- ---- 37.8/42.8 MB 8.7 MB/s eta 0:00:01\n",
      "     ----------------------------------- ---- 38.2/42.8 MB 8.7 MB/s eta 0:00:01\n",
      "     ------------------------------------ --- 38.5/42.8 MB 8.5 MB/s eta 0:00:01\n",
      "     ------------------------------------ --- 38.7/42.8 MB 8.4 MB/s eta 0:00:01\n",
      "     ------------------------------------ --- 39.1/42.8 MB 8.4 MB/s eta 0:00:01\n",
      "     ------------------------------------ --- 39.5/42.8 MB 8.3 MB/s eta 0:00:01\n",
      "     ------------------------------------- -- 39.8/42.8 MB 8.3 MB/s eta 0:00:01\n",
      "     ------------------------------------- -- 40.0/42.8 MB 8.1 MB/s eta 0:00:01\n",
      "     ------------------------------------- -- 40.3/42.8 MB 8.2 MB/s eta 0:00:01\n",
      "     -------------------------------------- - 40.7/42.8 MB 8.2 MB/s eta 0:00:01\n",
      "     -------------------------------------- - 41.1/42.8 MB 8.1 MB/s eta 0:00:01\n",
      "     -------------------------------------- - 41.4/42.8 MB 8.1 MB/s eta 0:00:01\n",
      "     ---------------------------------------  41.8/42.8 MB 8.1 MB/s eta 0:00:01\n",
      "     ---------------------------------------  42.2/42.8 MB 8.2 MB/s eta 0:00:01\n",
      "     ---------------------------------------  42.6/42.8 MB 8.5 MB/s eta 0:00:01\n",
      "     ---------------------------------------  42.8/42.8 MB 8.3 MB/s eta 0:00:01\n",
      "     ---------------------------------------  42.8/42.8 MB 8.3 MB/s eta 0:00:01\n",
      "     ---------------------------------------  42.8/42.8 MB 8.3 MB/s eta 0:00:01\n",
      "     ---------------------------------------  42.8/42.8 MB 8.3 MB/s eta 0:00:01\n",
      "     ---------------------------------------  42.8/42.8 MB 8.3 MB/s eta 0:00:01\n",
      "     ---------------------------------------  42.8/42.8 MB 8.3 MB/s eta 0:00:01\n",
      "     ---------------------------------------  42.8/42.8 MB 8.3 MB/s eta 0:00:01\n",
      "     ---------------------------------------  42.8/42.8 MB 8.3 MB/s eta 0:00:01\n",
      "     ---------------------------------------- 42.8/42.8 MB 6.5 MB/s eta 0:00:00\n",
      "Requirement already satisfied: spacy<3.8.0,>=3.7.2 in c:\\users\\debgh\\allprojects\\learningspacy\\.venv\\lib\\site-packages (from en-core-web-md==3.7.1) (3.7.4)\n",
      "Requirement already satisfied: spacy-legacy<3.1.0,>=3.0.11 in c:\\users\\debgh\\allprojects\\learningspacy\\.venv\\lib\\site-packages (from spacy<3.8.0,>=3.7.2->en-core-web-md==3.7.1) (3.0.12)\n",
      "Requirement already satisfied: spacy-loggers<2.0.0,>=1.0.0 in c:\\users\\debgh\\allprojects\\learningspacy\\.venv\\lib\\site-packages (from spacy<3.8.0,>=3.7.2->en-core-web-md==3.7.1) (1.0.5)\n",
      "Requirement already satisfied: murmurhash<1.1.0,>=0.28.0 in c:\\users\\debgh\\allprojects\\learningspacy\\.venv\\lib\\site-packages (from spacy<3.8.0,>=3.7.2->en-core-web-md==3.7.1) (1.0.10)\n",
      "Requirement already satisfied: cymem<2.1.0,>=2.0.2 in c:\\users\\debgh\\allprojects\\learningspacy\\.venv\\lib\\site-packages (from spacy<3.8.0,>=3.7.2->en-core-web-md==3.7.1) (2.0.8)\n",
      "Requirement already satisfied: preshed<3.1.0,>=3.0.2 in c:\\users\\debgh\\allprojects\\learningspacy\\.venv\\lib\\site-packages (from spacy<3.8.0,>=3.7.2->en-core-web-md==3.7.1) (3.0.9)\n",
      "Requirement already satisfied: thinc<8.3.0,>=8.2.2 in c:\\users\\debgh\\allprojects\\learningspacy\\.venv\\lib\\site-packages (from spacy<3.8.0,>=3.7.2->en-core-web-md==3.7.1) (8.2.3)\n",
      "Requirement already satisfied: wasabi<1.2.0,>=0.9.1 in c:\\users\\debgh\\allprojects\\learningspacy\\.venv\\lib\\site-packages (from spacy<3.8.0,>=3.7.2->en-core-web-md==3.7.1) (1.1.2)\n",
      "Requirement already satisfied: srsly<3.0.0,>=2.4.3 in c:\\users\\debgh\\allprojects\\learningspacy\\.venv\\lib\\site-packages (from spacy<3.8.0,>=3.7.2->en-core-web-md==3.7.1) (2.4.8)\n",
      "Requirement already satisfied: catalogue<2.1.0,>=2.0.6 in c:\\users\\debgh\\allprojects\\learningspacy\\.venv\\lib\\site-packages (from spacy<3.8.0,>=3.7.2->en-core-web-md==3.7.1) (2.0.10)\n",
      "Requirement already satisfied: weasel<0.4.0,>=0.1.0 in c:\\users\\debgh\\allprojects\\learningspacy\\.venv\\lib\\site-packages (from spacy<3.8.0,>=3.7.2->en-core-web-md==3.7.1) (0.3.4)\n",
      "Requirement already satisfied: typer<0.10.0,>=0.3.0 in c:\\users\\debgh\\allprojects\\learningspacy\\.venv\\lib\\site-packages (from spacy<3.8.0,>=3.7.2->en-core-web-md==3.7.1) (0.9.4)\n",
      "Requirement already satisfied: smart-open<7.0.0,>=5.2.1 in c:\\users\\debgh\\allprojects\\learningspacy\\.venv\\lib\\site-packages (from spacy<3.8.0,>=3.7.2->en-core-web-md==3.7.1) (6.4.0)\n",
      "Requirement already satisfied: tqdm<5.0.0,>=4.38.0 in c:\\users\\debgh\\allprojects\\learningspacy\\.venv\\lib\\site-packages (from spacy<3.8.0,>=3.7.2->en-core-web-md==3.7.1) (4.66.2)\n",
      "Requirement already satisfied: requests<3.0.0,>=2.13.0 in c:\\users\\debgh\\allprojects\\learningspacy\\.venv\\lib\\site-packages (from spacy<3.8.0,>=3.7.2->en-core-web-md==3.7.1) (2.31.0)\n",
      "Requirement already satisfied: pydantic!=1.8,!=1.8.1,<3.0.0,>=1.7.4 in c:\\users\\debgh\\allprojects\\learningspacy\\.venv\\lib\\site-packages (from spacy<3.8.0,>=3.7.2->en-core-web-md==3.7.1) (2.7.0)\n",
      "Requirement already satisfied: jinja2 in c:\\users\\debgh\\allprojects\\learningspacy\\.venv\\lib\\site-packages (from spacy<3.8.0,>=3.7.2->en-core-web-md==3.7.1) (3.1.3)\n",
      "Requirement already satisfied: setuptools in c:\\users\\debgh\\allprojects\\learningspacy\\.venv\\lib\\site-packages (from spacy<3.8.0,>=3.7.2->en-core-web-md==3.7.1) (69.5.1)\n",
      "Requirement already satisfied: packaging>=20.0 in c:\\users\\debgh\\allprojects\\learningspacy\\.venv\\lib\\site-packages (from spacy<3.8.0,>=3.7.2->en-core-web-md==3.7.1) (24.0)\n",
      "Requirement already satisfied: langcodes<4.0.0,>=3.2.0 in c:\\users\\debgh\\allprojects\\learningspacy\\.venv\\lib\\site-packages (from spacy<3.8.0,>=3.7.2->en-core-web-md==3.7.1) (3.3.0)\n",
      "Requirement already satisfied: numpy>=1.19.0 in c:\\users\\debgh\\allprojects\\learningspacy\\.venv\\lib\\site-packages (from spacy<3.8.0,>=3.7.2->en-core-web-md==3.7.1) (1.26.4)\n",
      "Requirement already satisfied: annotated-types>=0.4.0 in c:\\users\\debgh\\allprojects\\learningspacy\\.venv\\lib\\site-packages (from pydantic!=1.8,!=1.8.1,<3.0.0,>=1.7.4->spacy<3.8.0,>=3.7.2->en-core-web-md==3.7.1) (0.6.0)\n",
      "Requirement already satisfied: pydantic-core==2.18.1 in c:\\users\\debgh\\allprojects\\learningspacy\\.venv\\lib\\site-packages (from pydantic!=1.8,!=1.8.1,<3.0.0,>=1.7.4->spacy<3.8.0,>=3.7.2->en-core-web-md==3.7.1) (2.18.1)\n",
      "Requirement already satisfied: typing-extensions>=4.6.1 in c:\\users\\debgh\\allprojects\\learningspacy\\.venv\\lib\\site-packages (from pydantic!=1.8,!=1.8.1,<3.0.0,>=1.7.4->spacy<3.8.0,>=3.7.2->en-core-web-md==3.7.1) (4.11.0)\n",
      "Requirement already satisfied: charset-normalizer<4,>=2 in c:\\users\\debgh\\allprojects\\learningspacy\\.venv\\lib\\site-packages (from requests<3.0.0,>=2.13.0->spacy<3.8.0,>=3.7.2->en-core-web-md==3.7.1) (3.3.2)\n",
      "Requirement already satisfied: idna<4,>=2.5 in c:\\users\\debgh\\allprojects\\learningspacy\\.venv\\lib\\site-packages (from requests<3.0.0,>=2.13.0->spacy<3.8.0,>=3.7.2->en-core-web-md==3.7.1) (3.7)\n",
      "Requirement already satisfied: urllib3<3,>=1.21.1 in c:\\users\\debgh\\allprojects\\learningspacy\\.venv\\lib\\site-packages (from requests<3.0.0,>=2.13.0->spacy<3.8.0,>=3.7.2->en-core-web-md==3.7.1) (2.2.1)\n",
      "Requirement already satisfied: certifi>=2017.4.17 in c:\\users\\debgh\\allprojects\\learningspacy\\.venv\\lib\\site-packages (from requests<3.0.0,>=2.13.0->spacy<3.8.0,>=3.7.2->en-core-web-md==3.7.1) (2024.2.2)\n",
      "Requirement already satisfied: blis<0.8.0,>=0.7.8 in c:\\users\\debgh\\allprojects\\learningspacy\\.venv\\lib\\site-packages (from thinc<8.3.0,>=8.2.2->spacy<3.8.0,>=3.7.2->en-core-web-md==3.7.1) (0.7.11)\n",
      "Requirement already satisfied: confection<1.0.0,>=0.0.1 in c:\\users\\debgh\\allprojects\\learningspacy\\.venv\\lib\\site-packages (from thinc<8.3.0,>=8.2.2->spacy<3.8.0,>=3.7.2->en-core-web-md==3.7.1) (0.1.4)\n",
      "Requirement already satisfied: colorama in c:\\users\\debgh\\allprojects\\learningspacy\\.venv\\lib\\site-packages (from tqdm<5.0.0,>=4.38.0->spacy<3.8.0,>=3.7.2->en-core-web-md==3.7.1) (0.4.6)\n",
      "Requirement already satisfied: click<9.0.0,>=7.1.1 in c:\\users\\debgh\\allprojects\\learningspacy\\.venv\\lib\\site-packages (from typer<0.10.0,>=0.3.0->spacy<3.8.0,>=3.7.2->en-core-web-md==3.7.1) (8.1.7)\n",
      "Requirement already satisfied: cloudpathlib<0.17.0,>=0.7.0 in c:\\users\\debgh\\allprojects\\learningspacy\\.venv\\lib\\site-packages (from weasel<0.4.0,>=0.1.0->spacy<3.8.0,>=3.7.2->en-core-web-md==3.7.1) (0.16.0)\n",
      "Requirement already satisfied: MarkupSafe>=2.0 in c:\\users\\debgh\\allprojects\\learningspacy\\.venv\\lib\\site-packages (from jinja2->spacy<3.8.0,>=3.7.2->en-core-web-md==3.7.1) (2.1.5)\n",
      "Installing collected packages: en-core-web-md\n",
      "Successfully installed en-core-web-md-3.7.1\n",
      "\u001b[38;5;2m✔ Download and installation successful\u001b[0m\n",
      "You can now load the package via spacy.load('en_core_web_md')\n"
     ]
    }
   ],
   "source": [
    "# !python -m spacy download en_core_web_md"
   ]
  },
  {
   "cell_type": "code",
   "execution_count": 5,
   "metadata": {},
   "outputs": [],
   "source": [
    "import spacy"
   ]
  },
  {
   "cell_type": "code",
   "execution_count": 6,
   "metadata": {},
   "outputs": [
    {
     "data": {
      "text/plain": [
       "<spacy.pipeline.sentencizer.Sentencizer at 0x1bccbe2b610>"
      ]
     },
     "execution_count": 6,
     "metadata": {},
     "output_type": "execute_result"
    }
   ],
   "source": [
    "nlp = spacy.blank(\"en\")\n",
    "nlp.add_pipe(\"sentencizer\")"
   ]
  },
  {
   "cell_type": "code",
   "execution_count": 7,
   "metadata": {},
   "outputs": [],
   "source": [
    "import requests\n",
    "from bs4 import BeautifulSoup\n",
    "s = requests.get(\"https://ocw.mit.edu/ans7870/6/6.006/s08/lecturenotes/files/t8.shakespeare.txt\")\n",
    "soup = BeautifulSoup(s.content).text.replace(\"-\\n\", \"\").replace(\"\\n\", \" \")\n",
    "nlp.max_length = 5278439"
   ]
  },
  {
   "cell_type": "code",
   "execution_count": 8,
   "metadata": {},
   "outputs": [
    {
     "name": "stdout",
     "output_type": "stream",
     "text": [
      "94134\n",
      "CPU times: total: 11.2 s\n",
      "Wall time: 13.1 s\n"
     ]
    }
   ],
   "source": [
    "%%time\n",
    "doc = nlp(soup)\n",
    "print (len(list(doc.sents)))"
   ]
  },
  {
   "cell_type": "code",
   "execution_count": 14,
   "metadata": {},
   "outputs": [],
   "source": [
    "nlp2 = spacy.load(\"en_core_web_md\")\n",
    "nlp2.max_length = 5278439"
   ]
  },
  {
   "cell_type": "code",
   "execution_count": 15,
   "metadata": {},
   "outputs": [],
   "source": [
    "%%time\n",
    "doc = nlp2(soup)\n",
    "print (len(list(doc.sents)))"
   ]
  }
 ],
 "metadata": {
  "kernelspec": {
   "display_name": "Python 3",
   "language": "python",
   "name": "python3"
  },
  "language_info": {
   "codemirror_mode": {
    "name": "ipython",
    "version": 3
   },
   "file_extension": ".py",
   "mimetype": "text/x-python",
   "name": "python",
   "nbconvert_exporter": "python",
   "pygments_lexer": "ipython3",
   "version": "3.12.1"
  }
 },
 "nbformat": 4,
 "nbformat_minor": 2
}
